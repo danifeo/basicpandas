{
  "cells": [
    {
      "cell_type": "markdown",
      "metadata": {
        "id": "view-in-github",
        "colab_type": "text"
      },
      "source": [
        "<a href=\"https://colab.research.google.com/github/danifeo/basicpandas/blob/main/Arquivo_Inicial_PANDAS.ipynb\" target=\"_parent\"><img src=\"https://colab.research.google.com/assets/colab-badge.svg\" alt=\"Open In Colab\"/></a>"
      ]
    },
    {
      "cell_type": "markdown",
      "metadata": {
        "id": "wMD4EchTvMS5"
      },
      "source": [
        "# pandas - \"A melhor biblioteca do Python para Dados\"\n",
        "\n",
        "- Quase sempre que você for trabalhar com dados no Python você vai usar o pandas, então é importante você saber trabalhar com essa biblioteca muito bem\n",
        "\n",
        "- Vamos aprender os principais comandos e os princípios básicos do pandas\n",
        "\n",
        "- Faça o download do Gabarito desse arquivo e use como uma cartilha de consulta (Link na descrição)"
      ]
    },
    {
      "cell_type": "code",
      "source": [
        "from google.colab import drive\n",
        "drive.mount('/content/drive')"
      ],
      "metadata": {
        "colab": {
          "base_uri": "https://localhost:8080/"
        },
        "id": "jWKXPT5_GVsx",
        "outputId": "236375a6-94b2-4218-e456-0d4bdefa5947"
      },
      "execution_count": 1,
      "outputs": [
        {
          "output_type": "stream",
          "name": "stdout",
          "text": [
            "Mounted at /content/drive\n"
          ]
        }
      ]
    },
    {
      "cell_type": "markdown",
      "metadata": {
        "id": "7UX72WO4vMTG"
      },
      "source": [
        "### Importando o pandas"
      ]
    },
    {
      "cell_type": "code",
      "execution_count": 2,
      "metadata": {
        "id": "wl6FNf80vMTI"
      },
      "outputs": [],
      "source": [
        "import pandas as pd"
      ]
    },
    {
      "cell_type": "markdown",
      "metadata": {
        "id": "krG7nVagvMTJ"
      },
      "source": [
        "### Criando um dataframe a partir de um dicionário (biblioteca) \n",
        "um DATAFRAME é uma TABELA DO PYTHON"
      ]
    },
    {
      "cell_type": "code",
      "execution_count": 3,
      "metadata": {
        "id": "jus6iel5vMTL"
      },
      "outputs": [],
      "source": [
        "# dataframe = pd.DataFrame() \n",
        "# no caso acima, cria-se uma tabela zerada\n",
        "\n",
        "venda = {'data': ['15/02/2021', '16/02/2021'],\n",
        "         'valor': [500, 300],\n",
        "         'produto': ['feijao', 'arroz'],\n",
        "         'qtde': [50, 70],\n",
        "        }\n",
        "\n",
        "# este é outro metodo: criar uma dataframe (tabela) a partir de dados ja existentes\n",
        "# a variável (tabela vendas_df) vai conter os dados da dataframe (venda) \n",
        "\n",
        "vendas_df = pd.DataFrame(venda)"
      ]
    },
    {
      "cell_type": "markdown",
      "metadata": {
        "id": "oIEz6ZfAvMTN"
      },
      "source": [
        "### Visualização dos Dados\n",
        "    - print\n",
        "    - display"
      ]
    },
    {
      "cell_type": "code",
      "execution_count": null,
      "metadata": {
        "id": "EdqqpGM_vMTO"
      },
      "outputs": [],
      "source": [
        "print(vendas_df)\n",
        "\n",
        "display(vendas_df)"
      ]
    },
    {
      "cell_type": "markdown",
      "metadata": {
        "id": "9-MjtEpOvMTQ"
      },
      "source": [
        "### Importando arquivos e bases de dados"
      ]
    },
    {
      "cell_type": "code",
      "execution_count": null,
      "metadata": {
        "id": "h2Jj-BgbvMTS"
      },
      "outputs": [],
      "source": [
        "vendas_df = pd.read_excel('/content/drive/MyDrive/Colab Notebooks/Introducao ao PANDAS/Vendas.xlsx')\n",
        "display(vendas_df)"
      ]
    },
    {
      "cell_type": "markdown",
      "metadata": {
        "id": "Pyduco_-vMTT"
      },
      "source": [
        "### Resumos de Visualização de Dados simples e úteis\n",
        "    - head (mostra as 5 primeiras linhas ou quantas vc determinar)\n",
        "    - shape (mostra quantas linhas e quantas colunas tem sua tabela)\n",
        "    - describe (mostra o resumo das colunas NUMÉRICAS da tabela e outras infos)"
      ]
    },
    {
      "cell_type": "code",
      "execution_count": null,
      "metadata": {
        "id": "Y6Tretl_vMTV"
      },
      "outputs": [],
      "source": [
        "display(vendas_df.head())\n",
        "\n",
        "display(vendas_df.head(10))\n",
        "\n",
        "print(vendas_df.shape)\n",
        "\n",
        "display(vendas_df.describe())"
      ]
    },
    {
      "cell_type": "markdown",
      "metadata": {
        "id": "9o6dZ2K5vMTV"
      },
      "source": [
        "### Pegar 1 coluna (e os pd.Series)\n",
        "Cada COLUNA da tabela é uma SERIE do Pandas"
      ]
    },
    {
      "cell_type": "code",
      "source": [
        "produtos = vendas_df['Produto']\n",
        "display(produtos)"
      ],
      "metadata": {
        "id": "OrAqBMXZZnEz"
      },
      "execution_count": null,
      "outputs": []
    },
    {
      "cell_type": "markdown",
      "metadata": {
        "id": "5EjGRE0_ZasQ"
      },
      "source": [
        "### Pegar MAIS DE UMA coluna (e os pd.Series)\n",
        "mais de duas COLUNAS já é considerada uma tabela"
      ]
    },
    {
      "cell_type": "code",
      "execution_count": null,
      "metadata": {
        "id": "gYCLWAb6vMTX"
      },
      "outputs": [],
      "source": [
        "produtos = vendas_df[['Produto', 'ID Loja']]\n",
        "display(produtos)"
      ]
    },
    {
      "cell_type": "markdown",
      "metadata": {
        "id": "6fx1JhCVvMTY"
      },
      "source": [
        "### .loc, um método muito importante (localizar)\n",
        "Este método .loc considera os IDs\n",
        "\n",
        "    - Pegar 1 linha\n",
        "    - Pegar linhas de acordo com alguma condição\n",
        "    - Pegar linhas e colunas específicas\n",
        "    - Pegar 1 valor específico"
      ]
    },
    {
      "cell_type": "code",
      "execution_count": null,
      "metadata": {
        "id": "A39oareCvMTZ"
      },
      "outputs": [],
      "source": [
        "# pegar apenas uma linha - loc vai localizar o ID 1 na tabela\n",
        "\n",
        "display(vendas_df.loc[0:5])"
      ]
    },
    {
      "cell_type": "code",
      "execution_count": null,
      "metadata": {
        "id": "v7DVxKnjjj2H"
      },
      "outputs": [],
      "source": [
        "# pegar linha de acordo com uma CONDIÇÃO. \n",
        "# Ex.: visualizar apenas as linhas NORTE SHOPPING no ID Loja\n",
        "\n",
        "vendas_df['ID Loja'] == 'Norte Shopping'\n",
        "\n",
        "display(vendas_df.loc[vendas_df['ID Loja'] == 'Norte Shopping'])"
      ]
    },
    {
      "cell_type": "code",
      "source": [
        "# armazenando a informação acima\n",
        "\n",
        "vendas_norteshopping_df = display(vendas_df.loc[vendas_df['ID Loja'] == 'Norte Shopping'])\n",
        "display(vendas_norteshopping_df)"
      ],
      "metadata": {
        "id": "d47xT_qxlMZv"
      },
      "execution_count": null,
      "outputs": []
    },
    {
      "cell_type": "code",
      "source": [
        "# pegar varias linhas e colunas específicas usando o .loc\n",
        "\n",
        "# quanto uma coisa é igual a outra, usa-se dois sinais de igual ==\n",
        "\n",
        "# padrao .loc [linhas, colunas]\n",
        "\n",
        "vendas_norteshopping_df = display(vendas_df.loc[vendas_df['ID Loja'] == 'Norte Shopping'])\n",
        "display(vendas_norteshopping_df)"
      ],
      "metadata": {
        "id": "26x_3ipbllAh"
      },
      "execution_count": null,
      "outputs": []
    },
    {
      "cell_type": "code",
      "source": [
        "# visualizar apenas as colunas ID LOJA, PRODUTO e QUANT. ref. ao NORTE SHOPPING\n",
        "# padrao .loc. Ex.: variavel_df.loc[linhas, colunas]\n",
        "\n",
        "vendas_norteshopping_df = vendas_df.loc[vendas_df['ID Loja'] == 'Norte Shopping', ['ID Loja','Produto','Quantidade']]\n",
        "display(vendas_norteshopping_df)"
      ],
      "metadata": {
        "id": "Q_GeZdZpl050"
      },
      "execution_count": null,
      "outputs": []
    },
    {
      "cell_type": "code",
      "source": [
        "# pegar 1 valor específico dentro da tabela\n",
        "\n",
        "# print (variavel_df.loc[linha, coluna])\n",
        "\n",
        "print(vendas_df.loc[1,'Produto'])"
      ],
      "metadata": {
        "id": "I-Qp7cr6nNi2"
      },
      "execution_count": null,
      "outputs": []
    },
    {
      "cell_type": "markdown",
      "metadata": {
        "id": "I6XIyxlJvMTa"
      },
      "source": [
        "### Adicionar 1 coluna"
      ]
    },
    {
      "cell_type": "code",
      "execution_count": null,
      "metadata": {
        "id": "UlUtaIafvMTb"
      },
      "outputs": [],
      "source": [
        "# a partir de uma coluna que já existe\n",
        "# neste caso ele cria uma nova coluna chamada COMISSAO; 0.05 corrresponde a 5%\n",
        "\n",
        "vendas_df['Comissão'] = vendas_df['Valor Final']*0.05\n",
        "display(vendas_df)"
      ]
    },
    {
      "cell_type": "code",
      "source": [
        "# criar uma coluna ja com um valor padrão (pre-determinado)\n",
        "# para todas as linhas da coluna criada IMPOSTO, preencher com valor 0\n",
        "# : significa todas as linhas\n",
        "\n",
        "vendas_df.loc[:,'Imposto'] = 0\n",
        "display(vendas_df)"
      ],
      "metadata": {
        "id": "ePNMqBXMrquf"
      },
      "execution_count": null,
      "outputs": []
    },
    {
      "cell_type": "markdown",
      "metadata": {
        "id": "iwR4dTDyvMTb"
      },
      "source": [
        "### Adicionar 1 linha\n",
        "  - Agora usaremos a tabela Vendas_dez para o exemplo\n",
        "  - Linhas de um complemento da base de dados"
      ]
    },
    {
      "cell_type": "code",
      "execution_count": null,
      "metadata": {
        "id": "FGeFiHApvMTc"
      },
      "outputs": [],
      "source": [
        "# criando a variavel VENDAS_DEZ_DF, a qual armazenara os dados da tabela VENDAS-DEZ.XLSX \n",
        "\n",
        "vendas_dez_df = pd.read_excel('/content/drive/MyDrive/Colab Notebooks/Introducao ao PANDAS/Vendas - Dez.xlsx')\n",
        "\n",
        "# quero adicionar a tabela de vendas_dez ao final da tabela anterior vendas_df\n",
        "\n",
        "vendas_df = vendas_df.append(vendas_dez_df)\n",
        "display(vendas_df)"
      ]
    },
    {
      "cell_type": "markdown",
      "metadata": {
        "id": "yj2uDKqzvMTd"
      },
      "source": [
        "### Excluir linhas e colunas"
      ]
    },
    {
      "cell_type": "code",
      "execution_count": null,
      "metadata": {
        "id": "qH2jd6cyvMTd"
      },
      "outputs": [],
      "source": [
        "# eixo 0 e para linha; eixo 1 e para tabela\n",
        "# axis = eixo\n",
        "\n",
        "# para excluir a coluna Imposto\n",
        "\n",
        "vendas_df = vendas_df.drop('Imposto', axis=1)\n",
        "display(vendas_df)\n",
        "\n",
        "# apos o display, a coluna ja nao IMPOSTO ja nao existe mais"
      ]
    },
    {
      "cell_type": "code",
      "execution_count": null,
      "metadata": {
        "id": "Bc0wOv3AnM3s"
      },
      "outputs": [],
      "source": [
        "# eixo 0 e para linha; eixo 1 e para tabela\n",
        "# axis = eixo\n",
        "\n",
        "# para excluir a linha 0\n",
        "\n",
        "vendas_df =  vendas_df.drop(0, axis=0)\n",
        "display(vendas_df)"
      ]
    },
    {
      "cell_type": "markdown",
      "metadata": {
        "id": "9XII6VdDvMTe"
      },
      "source": [
        "### Valores Vazios - NuN\n",
        "  - Deletar linhas/colunas vazias\n",
        "  - Deletar linhas que possuem valores vazios\n",
        "  - Preencher valores vazios (média e último valor)"
      ]
    },
    {
      "cell_type": "code",
      "execution_count": 16,
      "metadata": {
        "id": "QJ8Lrz1dvMTf"
      },
      "outputs": [],
      "source": [
        "# deletar linhas COMPLETAMENTE vazias\n",
        "\n",
        "vendas_df = vendas_df.dropna(how ='all')"
      ]
    },
    {
      "cell_type": "code",
      "source": [
        "# deletar linhas e colunas completamente vazias\n",
        "\n",
        "vendas_df = vendas_df.dropna(how = 'all', axis=1)"
      ],
      "metadata": {
        "id": "YwQmFzmcpq8e"
      },
      "execution_count": null,
      "outputs": []
    },
    {
      "cell_type": "code",
      "source": [
        "# deletar linhas que possuem pelo menos 1 valor vazio\n",
        "\n",
        "vendas_df = vendas_df.dropna()"
      ],
      "metadata": {
        "id": "JN5GsWCKqC7c"
      },
      "execution_count": null,
      "outputs": []
    },
    {
      "cell_type": "code",
      "source": [
        "# preencher valores vazios COM A MEDIA DA COLUNA\n",
        "\n"
      ],
      "metadata": {
        "id": "zY9_13KHqXSj"
      },
      "execution_count": null,
      "outputs": []
    },
    {
      "cell_type": "markdown",
      "metadata": {
        "id": "yDqLNdbwvMTf"
      },
      "source": [
        "### Calcular Indicadores\n",
        "    - Groupby\n",
        "    - Value Counts"
      ]
    },
    {
      "cell_type": "code",
      "execution_count": 16,
      "metadata": {
        "id": "0KD0dFHFvMTg"
      },
      "outputs": [],
      "source": [
        ""
      ]
    },
    {
      "cell_type": "markdown",
      "metadata": {
        "id": "UZImKljrvMTg"
      },
      "source": [
        "### Mesclar 2 dataframes (Procurar informações de um dataframe em outro)"
      ]
    },
    {
      "cell_type": "code",
      "execution_count": 16,
      "metadata": {
        "id": "1Mx524BvvMTh"
      },
      "outputs": [],
      "source": [
        ""
      ]
    },
    {
      "cell_type": "markdown",
      "metadata": {
        "id": "WPk3eVs1vMTh"
      },
      "source": [
        "### Como continuar aprendendo?\n",
        "\n",
        "### Minicurso Gratuito de Análise de Dados com Python na Descrição"
      ]
    }
  ],
  "metadata": {
    "kernelspec": {
      "display_name": "Python 3",
      "language": "python",
      "name": "python3"
    },
    "language_info": {
      "codemirror_mode": {
        "name": "ipython",
        "version": 3
      },
      "file_extension": ".py",
      "mimetype": "text/x-python",
      "name": "python",
      "nbconvert_exporter": "python",
      "pygments_lexer": "ipython3",
      "version": "3.8.5"
    },
    "colab": {
      "name": "Arquivo Inicial PANDAS.ipynb",
      "provenance": [],
      "collapsed_sections": [],
      "include_colab_link": true
    }
  },
  "nbformat": 4,
  "nbformat_minor": 0
}